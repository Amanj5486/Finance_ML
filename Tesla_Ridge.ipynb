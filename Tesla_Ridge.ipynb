{
  "nbformat": 4,
  "nbformat_minor": 0,
  "metadata": {
    "colab": {
      "name": "Tesla_Ridge",
      "provenance": [],
      "authorship_tag": "ABX9TyNr75ogCWMzSBjyvaw5/pqJ",
      "include_colab_link": true
    },
    "kernelspec": {
      "name": "python3",
      "display_name": "Python 3"
    },
    "language_info": {
      "name": "python"
    }
  },
  "cells": [
    {
      "cell_type": "markdown",
      "metadata": {
        "id": "view-in-github",
        "colab_type": "text"
      },
      "source": [
        "<a href=\"https://colab.research.google.com/github/Amanj5486/Finance_ML/blob/main/Tesla_Ridge.ipynb\" target=\"_parent\"><img src=\"https://colab.research.google.com/assets/colab-badge.svg\" alt=\"Open In Colab\"/></a>"
      ]
    },
    {
      "cell_type": "code",
      "metadata": {
        "id": "RbxLbdhl049R"
      },
      "source": [
        "import numpy as np\n",
        "import pandas as pd\n",
        "import matplotlib.pyplot as plt\n",
        "from sklearn.model_selection import  train_test_split\n",
        "from sklearn.linear_model import Ridge\n",
        "import sklearn\n",
        "from sklearn.metrics import confusion_matrix, accuracy_score"
      ],
      "execution_count": 47,
      "outputs": []
    },
    {
      "cell_type": "code",
      "metadata": {
        "id": "vQsLMhzo173m"
      },
      "source": [
        "dataset=pd.read_csv('TSLA.csv')\n",
        "dataset['Date']=pd.to_datetime(dataset.Date)"
      ],
      "execution_count": 48,
      "outputs": []
    },
    {
      "cell_type": "code",
      "metadata": {
        "id": "bMtl1fQR2Jql"
      },
      "source": [
        "dataset.drop('Close',axis=1,inplace=True)"
      ],
      "execution_count": 49,
      "outputs": []
    },
    {
      "cell_type": "code",
      "metadata": {
        "id": "xyUT8VTh2LDV"
      },
      "source": [
        "X=dataset[['Open','High','Low','Volume']]\n",
        "Y=dataset['Adj Close']\n",
        "X=X.values\n",
        "Y=Y.values"
      ],
      "execution_count": 50,
      "outputs": []
    },
    {
      "cell_type": "code",
      "metadata": {
        "id": "DVrmg43y2V-l"
      },
      "source": [
        "X_train, X_test, Y_train, Y_test=train_test_split(X,Y,random_state=0)"
      ],
      "execution_count": 51,
      "outputs": []
    },
    {
      "cell_type": "code",
      "metadata": {
        "id": "8UPA9NfV2YHg"
      },
      "source": [
        "model=Ridge()\n",
        "model.fit(X_train,Y_train)\n",
        "predicted=model.predict(X_test)"
      ],
      "execution_count": 52,
      "outputs": []
    },
    {
      "cell_type": "code",
      "metadata": {
        "colab": {
          "base_uri": "https://localhost:8080/"
        },
        "id": "4jZKsFUD2fHI",
        "outputId": "62a4bf42-927b-4bca-8aaa-a7a917716584"
      },
      "source": [
        "model.score(X_test,Y_test)"
      ],
      "execution_count": 53,
      "outputs": [
        {
          "output_type": "execute_result",
          "data": {
            "text/plain": [
              "0.9998238872630681"
            ]
          },
          "metadata": {
            "tags": []
          },
          "execution_count": 53
        }
      ]
    },
    {
      "cell_type": "code",
      "metadata": {
        "colab": {
          "base_uri": "https://localhost:8080/"
        },
        "id": "Oj7W84_r3jxQ",
        "outputId": "32d7318b-7d22-43af-b1fc-8db079a5fa75"
      },
      "source": [
        "r2=sklearn.metrics.r2_score(Y_test, predicted)\n",
        "r2"
      ],
      "execution_count": 54,
      "outputs": [
        {
          "output_type": "execute_result",
          "data": {
            "text/plain": [
              "0.9998238872630681"
            ]
          },
          "metadata": {
            "tags": []
          },
          "execution_count": 54
        }
      ]
    },
    {
      "cell_type": "code",
      "metadata": {
        "colab": {
          "base_uri": "https://localhost:8080/"
        },
        "id": "weWcAdoV3zIp",
        "outputId": "b52727dd-777c-4e28-dd8b-f8406c673792"
      },
      "source": [
        "rmse=np.sqrt(np.mean(predicted-Y_test)**2)\n",
        "rmse"
      ],
      "execution_count": 55,
      "outputs": [
        {
          "output_type": "execute_result",
          "data": {
            "text/plain": [
              "0.048059049434543"
            ]
          },
          "metadata": {
            "tags": []
          },
          "execution_count": 55
        }
      ]
    },
    {
      "cell_type": "code",
      "metadata": {
        "id": "MjjKjmIV5yRc"
      },
      "source": [
        ""
      ],
      "execution_count": 55,
      "outputs": []
    }
  ]
}