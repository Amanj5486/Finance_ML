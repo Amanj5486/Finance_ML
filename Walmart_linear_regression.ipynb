{
  "nbformat": 4,
  "nbformat_minor": 0,
  "metadata": {
    "colab": {
      "name": "Walmart_linear_regression",
      "provenance": [],
      "collapsed_sections": [],
      "authorship_tag": "ABX9TyOh7ExttEfAToZCbZYbqhDP",
      "include_colab_link": true
    },
    "kernelspec": {
      "name": "python3",
      "display_name": "Python 3"
    },
    "language_info": {
      "name": "python"
    }
  },
  "cells": [
    {
      "cell_type": "markdown",
      "metadata": {
        "id": "view-in-github",
        "colab_type": "text"
      },
      "source": [
        "<a href=\"https://colab.research.google.com/github/Amanj5486/Finance_ML/blob/main/Walmart_linear_regression.ipynb\" target=\"_parent\"><img src=\"https://colab.research.google.com/assets/colab-badge.svg\" alt=\"Open In Colab\"/></a>"
      ]
    },
    {
      "cell_type": "code",
      "metadata": {
        "id": "-tIRQNdfh2Mn"
      },
      "source": [
        "import numpy as np\n",
        "import pandas as pd\n",
        "import matplotlib.pyplot as plt\n",
        "from sklearn import  metrics\n",
        "from sklearn.model_selection import  train_test_split\n",
        "from sklearn.linear_model import LinearRegression\n",
        "from sklearn.metrics import confusion_matrix, accuracy_score\n",
        "import math\n",
        "\n",
        "#from sklearn.linear_model import SGDRegressor\n",
        "#from sklearn.linear_model import ElasticNet\n",
        "#from sklearn.pipeline import make_pipeline\n",
        "#from sklearn.preprocessing import StandardScaler"
      ],
      "execution_count": 58,
      "outputs": []
    },
    {
      "cell_type": "code",
      "metadata": {
        "id": "yxHqdrrOrnte"
      },
      "source": [
        "dataset=pd.read_csv('WMT.csv')\n",
        "dataset['Date']=pd.to_datetime(dataset.Date)"
      ],
      "execution_count": 59,
      "outputs": []
    },
    {
      "cell_type": "code",
      "metadata": {
        "id": "DjE1MaLxirv9"
      },
      "source": [
        "dataset.drop('Close',axis=1,inplace=True)"
      ],
      "execution_count": 60,
      "outputs": []
    },
    {
      "cell_type": "code",
      "metadata": {
        "colab": {
          "base_uri": "https://localhost:8080/",
          "height": 282
        },
        "id": "1WefX-Hcv7GE",
        "outputId": "2193bf30-f780-4206-a526-32c6739a3a3c"
      },
      "source": [
        "dataset['Adj Close'].plot()"
      ],
      "execution_count": 61,
      "outputs": [
        {
          "output_type": "execute_result",
          "data": {
            "text/plain": [
              "<matplotlib.axes._subplots.AxesSubplot at 0x7f6120f8ed90>"
            ]
          },
          "metadata": {
            "tags": []
          },
          "execution_count": 61
        },
        {
          "output_type": "display_data",
          "data": {
            "image/png": "[encoded data removed]",
            "text/plain": [
              "<Figure size 432x288 with 1 Axes>"
            ]
          },
          "metadata": {
            "tags": [],
            "needs_background": "light"
          }
        }
      ]
    },
    {
      "cell_type": "code",
      "metadata": {
        "id": "vJhHaKMTwIB0"
      },
      "source": [
        "X=dataset[['Open','High','Low','Volume']]\n",
        "Y=dataset['Adj Close']\n",
        "X=X.values\n",
        "Y=Y.values"
      ],
      "execution_count": 62,
      "outputs": []
    },
    {
      "cell_type": "code",
      "metadata": {
        "id": "7khKmOm2weqo"
      },
      "source": [
        "X_train, X_test, Y_train, Y_test=train_test_split(X,Y,random_state=0)"
      ],
      "execution_count": 63,
      "outputs": []
    },
    {
      "cell_type": "code",
      "metadata": {
        "colab": {
          "base_uri": "https://localhost:8080/"
        },
        "id": "x4eNyt6YxAcE",
        "outputId": "e1ffe34f-b4c0-4838-d269-9522577b9e24"
      },
      "source": [
        "print(X_train.shape,Y_train.shape)\n",
        "\n"
      ],
      "execution_count": 64,
      "outputs": [
        {
          "output_type": "stream",
          "text": [
            "(1887, 4) (1887,)\n"
          ],
          "name": "stdout"
        }
      ]
    },
    {
      "cell_type": "code",
      "metadata": {
        "colab": {
          "base_uri": "https://localhost:8080/"
        },
        "id": "wKfIXTTuxsnU",
        "outputId": "f890b91a-c84a-43d5-f9a1-73cf18a9be09"
      },
      "source": [
        "model=LinearRegression()\n",
        "model.fit(X_train,Y_train)"
      ],
      "execution_count": 65,
      "outputs": [
        {
          "output_type": "execute_result",
          "data": {
            "text/plain": [
              "LinearRegression(copy_X=True, fit_intercept=True, n_jobs=None, normalize=False)"
            ]
          },
          "metadata": {
            "tags": []
          },
          "execution_count": 65
        }
      ]
    },
    {
      "cell_type": "code",
      "metadata": {
        "colab": {
          "base_uri": "https://localhost:8080/"
        },
        "id": "xGvs4CjkxzDU",
        "outputId": "5ac7be8d-9142-45c7-9d7d-ffb2a295f9a6"
      },
      "source": [
        "print(model.coef_)\n"
      ],
      "execution_count": 66,
      "outputs": [
        {
          "output_type": "stream",
          "text": [
            "[-6.35863713e-01  9.09438128e-01  8.55383700e-01  8.60646188e-08]\n"
          ],
          "name": "stdout"
        }
      ]
    },
    {
      "cell_type": "code",
      "metadata": {
        "id": "bLXf8uLi0uo5"
      },
      "source": [
        "predicted=model.predict(X_test)"
      ],
      "execution_count": 67,
      "outputs": []
    },
    {
      "cell_type": "code",
      "metadata": {
        "colab": {
          "base_uri": "https://localhost:8080/",
          "height": 417
        },
        "id": "cK9J5fb31GZl",
        "outputId": "877cf320-fde6-4e43-96cc-c52649183913"
      },
      "source": [
        "df=pd.DataFrame({'Actual':Y_test,'Predicted':predicted})\n",
        "df"
      ],
      "execution_count": 68,
      "outputs": [
        {
          "output_type": "execute_result",
          "data": {
            "text/html": [
              "<div>\n",
              "<style scoped>\n",
              "    .dataframe tbody tr th:only-of-type {\n",
              "        vertical-align: middle;\n",
              "    }\n",
              "\n",
              "    .dataframe tbody tr th {\n",
              "        vertical-align: top;\n",
              "    }\n",
              "\n",
              "    .dataframe thead th {\n",
              "        text-align: right;\n",
              "    }\n",
              "</style>\n",
              "<table border=\"1\" class=\"dataframe\">\n",
              "  <thead>\n",
              "    <tr style=\"text-align: right;\">\n",
              "      <th></th>\n",
              "      <th>Actual</th>\n",
              "      <th>Predicted</th>\n",
              "    </tr>\n",
              "  </thead>\n",
              "  <tbody>\n",
              "    <tr>\n",
              "      <th>0</th>\n",
              "      <td>66.763641</td>\n",
              "      <td>69.528284</td>\n",
              "    </tr>\n",
              "    <tr>\n",
              "      <th>1</th>\n",
              "      <td>64.168457</td>\n",
              "      <td>61.765095</td>\n",
              "    </tr>\n",
              "    <tr>\n",
              "      <th>2</th>\n",
              "      <td>62.336262</td>\n",
              "      <td>65.395710</td>\n",
              "    </tr>\n",
              "    <tr>\n",
              "      <th>3</th>\n",
              "      <td>72.138947</td>\n",
              "      <td>74.862582</td>\n",
              "    </tr>\n",
              "    <tr>\n",
              "      <th>4</th>\n",
              "      <td>116.460884</td>\n",
              "      <td>115.964709</td>\n",
              "    </tr>\n",
              "    <tr>\n",
              "      <th>...</th>\n",
              "      <td>...</td>\n",
              "      <td>...</td>\n",
              "    </tr>\n",
              "    <tr>\n",
              "      <th>625</th>\n",
              "      <td>65.820724</td>\n",
              "      <td>63.452392</td>\n",
              "    </tr>\n",
              "    <tr>\n",
              "      <th>626</th>\n",
              "      <td>50.440735</td>\n",
              "      <td>46.274700</td>\n",
              "    </tr>\n",
              "    <tr>\n",
              "      <th>627</th>\n",
              "      <td>61.172848</td>\n",
              "      <td>57.369865</td>\n",
              "    </tr>\n",
              "    <tr>\n",
              "      <th>628</th>\n",
              "      <td>82.758492</td>\n",
              "      <td>81.230253</td>\n",
              "    </tr>\n",
              "    <tr>\n",
              "      <th>629</th>\n",
              "      <td>146.540268</td>\n",
              "      <td>148.507411</td>\n",
              "    </tr>\n",
              "  </tbody>\n",
              "</table>\n",
              "<p>630 rows × 2 columns</p>\n",
              "</div>"
            ],
            "text/plain": [
              "         Actual   Predicted\n",
              "0     66.763641   69.528284\n",
              "1     64.168457   61.765095\n",
              "2     62.336262   65.395710\n",
              "3     72.138947   74.862582\n",
              "4    116.460884  115.964709\n",
              "..          ...         ...\n",
              "625   65.820724   63.452392\n",
              "626   50.440735   46.274700\n",
              "627   61.172848   57.369865\n",
              "628   82.758492   81.230253\n",
              "629  146.540268  148.507411\n",
              "\n",
              "[630 rows x 2 columns]"
            ]
          },
          "metadata": {
            "tags": []
          },
          "execution_count": 68
        }
      ]
    },
    {
      "cell_type": "code",
      "metadata": {
        "colab": {
          "base_uri": "https://localhost:8080/"
        },
        "id": "ZLMIUOS01QTx",
        "outputId": "a36b410e-05c4-40f5-ce4a-d4a6659aeb53"
      },
      "source": [
        "model.score(X_test,Y_test)"
      ],
      "execution_count": 69,
      "outputs": [
        {
          "output_type": "execute_result",
          "data": {
            "text/plain": [
              "0.9917385515061667"
            ]
          },
          "metadata": {
            "tags": []
          },
          "execution_count": 69
        }
      ]
    },
    {
      "cell_type": "code",
      "metadata": {
        "id": "x_zYTcwV1iKR",
        "colab": {
          "base_uri": "https://localhost:8080/"
        },
        "outputId": "48aafa9c-bc68-4694-e5f1-22b01d1eaee2"
      },
      "source": [
        "mae=metrics.mean_absolute_error(Y_test,predicted)\n",
        "mae"
      ],
      "execution_count": 70,
      "outputs": [
        {
          "output_type": "execute_result",
          "data": {
            "text/plain": [
              "2.1690085205087795"
            ]
          },
          "metadata": {
            "tags": []
          },
          "execution_count": 70
        }
      ]
    },
    {
      "cell_type": "code",
      "metadata": {
        "colab": {
          "base_uri": "https://localhost:8080/"
        },
        "id": "1cO9OA0k2THI",
        "outputId": "159ccafd-3ff7-412c-fec3-c829ac14bbed"
      },
      "source": [
        "r2=metrics.r2_score(Y_test,predicted)\n",
        "r2"
      ],
      "execution_count": 71,
      "outputs": [
        {
          "output_type": "execute_result",
          "data": {
            "text/plain": [
              "0.9917385515061667"
            ]
          },
          "metadata": {
            "tags": []
          },
          "execution_count": 71
        }
      ]
    },
    {
      "cell_type": "code",
      "metadata": {
        "id": "J13kmbba2UCx"
      },
      "source": [
        "\n",
        "graph=df.head(20)"
      ],
      "execution_count": 72,
      "outputs": []
    },
    {
      "cell_type": "code",
      "metadata": {
        "colab": {
          "base_uri": "https://localhost:8080/",
          "height": 285
        },
        "id": "mG78ZZzT2qZx",
        "outputId": "2118dc50-b2b6-4f3e-a664-7a584a431ace"
      },
      "source": [
        "graph.plot(kind='bar')"
      ],
      "execution_count": 73,
      "outputs": [
        {
          "output_type": "execute_result",
          "data": {
            "text/plain": [
              "<matplotlib.axes._subplots.AxesSubplot at 0x7f6120d8a790>"
            ]
          },
          "metadata": {
            "tags": []
          },
          "execution_count": 73
        },
        {
          "output_type": "display_data",
          "data": {
            "image/png": "[encoded data removed]",
            "text/plain": [
              "<Figure size 432x288 with 1 Axes>"
            ]
          },
          "metadata": {
            "tags": [],
            "needs_background": "light"
          }
        }
      ]
    },
    {
      "cell_type": "code",
      "metadata": {
        "id": "kdKNJ8Ln2t71",
        "colab": {
          "base_uri": "https://localhost:8080/"
        },
        "outputId": "ea29b57a-8e63-45b7-a0b5-08696f37f83b"
      },
      "source": [
        "rmse=np.sqrt(np.mean(predicted-Y_test)**2)\n",
        "rmse"
      ],
      "execution_count": 74,
      "outputs": [
        {
          "output_type": "execute_result",
          "data": {
            "text/plain": [
              "0.01580267055830765"
            ]
          },
          "metadata": {
            "tags": []
          },
          "execution_count": 74
        }
      ]
    },
    {
      "cell_type": "code",
      "metadata": {
        "colab": {
          "base_uri": "https://localhost:8080/"
        },
        "id": "sHOO4_oomh9D",
        "outputId": "a8be6647-150e-439f-f643-a572f6776674"
      },
      "source": [
        "k2=metrics.r2_score(Y_test,predicted)\n",
        "k2"
      ],
      "execution_count": 75,
      "outputs": [
        {
          "output_type": "execute_result",
          "data": {
            "text/plain": [
              "0.9917385515061667"
            ]
          },
          "metadata": {
            "tags": []
          },
          "execution_count": 75
        }
      ]
    }
  ]
}