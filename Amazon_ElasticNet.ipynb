{
  "nbformat": 4,
  "nbformat_minor": 0,
  "metadata": {
    "colab": {
      "name": "Amazon_ElasticNet",
      "provenance": [],
      "authorship_tag": "ABX9TyPEcUAJsw9Y77hBbn2Zwykn",
      "include_colab_link": true
    },
    "kernelspec": {
      "name": "python3",
      "display_name": "Python 3"
    },
    "language_info": {
      "name": "python"
    }
  },
  "cells": [
    {
      "cell_type": "markdown",
      "metadata": {
        "id": "view-in-github",
        "colab_type": "text"
      },
      "source": [
        "<a href=\"https://colab.research.google.com/github/Amanj5486/Finance_ML/blob/main/Amazon_ElasticNet.ipynb\" target=\"_parent\"><img src=\"https://colab.research.google.com/assets/colab-badge.svg\" alt=\"Open In Colab\"/></a>"
      ]
    },
    {
      "cell_type": "code",
      "metadata": {
        "id": "HD9fACAdSz2E"
      },
      "source": [
        "import numpy as np\n",
        "import pandas as pd\n",
        "import matplotlib.pyplot as plt\n",
        "from sklearn import  metrics\n",
        "from sklearn.model_selection import  train_test_split\n",
        "from sklearn.linear_model import LinearRegression\n",
        "from sklearn.linear_model import ElasticNet\n",
        "from sklearn.preprocessing import LabelEncoder\n",
        "from sklearn.metrics import confusion_matrix, accuracy_score\n",
        "import math\n"
      ],
      "execution_count": 94,
      "outputs": []
    },
    {
      "cell_type": "code",
      "metadata": {
        "id": "ER8lDOseTTRF"
      },
      "source": [
        "dataset=pd.read_csv('amzn_data.csv')\n",
        "dataset['Date']=pd.to_datetime(dataset.Date)"
      ],
      "execution_count": 95,
      "outputs": []
    },
    {
      "cell_type": "code",
      "metadata": {
        "id": "kuBCjbDcTpYH"
      },
      "source": [
        "dataset.drop('Close',axis=1,inplace=True)"
      ],
      "execution_count": 96,
      "outputs": []
    },
    {
      "cell_type": "code",
      "metadata": {
        "id": "sgmVvaQ_8-tq"
      },
      "source": [
        "X=dataset[['Open','High','Low','Volume']]\n",
        "Y=dataset['Adj Close']\n",
        "X=X.values\n",
        "Y=Y.values"
      ],
      "execution_count": 97,
      "outputs": []
    },
    {
      "cell_type": "code",
      "metadata": {
        "id": "Pgh8t9cm8_cp"
      },
      "source": [
        "X_train, X_test, Y_train, Y_test=train_test_split(X,Y,random_state=0)"
      ],
      "execution_count": 98,
      "outputs": []
    },
    {
      "cell_type": "code",
      "metadata": {
        "colab": {
          "base_uri": "https://localhost:8080/"
        },
        "id": "lM0DVgJ29s4V",
        "outputId": "07b15463-a64d-407b-dedd-d764a2da8829"
      },
      "source": [
        "model = ElasticNet(alpha=1.0, l1_ratio=0.5)\n",
        "model.fit(X_train,Y_train)"
      ],
      "execution_count": 99,
      "outputs": [
        {
          "output_type": "stream",
          "text": [
            "/usr/local/lib/python3.7/dist-packages/sklearn/linear_model/_coordinate_descent.py:476: ConvergenceWarning: Objective did not converge. You might want to increase the number of iterations. Duality gap: 321887.5419002339, tolerance: 160201.54686231163\n",
            "  positive)\n"
          ],
          "name": "stderr"
        },
        {
          "output_type": "execute_result",
          "data": {
            "text/plain": [
              "ElasticNet(alpha=1.0, copy_X=True, fit_intercept=True, l1_ratio=0.5,\n",
              "           max_iter=1000, normalize=False, positive=False, precompute=False,\n",
              "           random_state=None, selection='cyclic', tol=0.0001, warm_start=False)"
            ]
          },
          "metadata": {
            "tags": []
          },
          "execution_count": 99
        }
      ]
    },
    {
      "cell_type": "code",
      "metadata": {
        "id": "G06DNsPC9v85"
      },
      "source": [
        "predicted=model.predict(X_test)"
      ],
      "execution_count": 100,
      "outputs": []
    },
    {
      "cell_type": "code",
      "metadata": {
        "colab": {
          "base_uri": "https://localhost:8080/",
          "height": 417
        },
        "id": "ndOWFkUc_2y4",
        "outputId": "8c986513-08e0-4b1a-b712-af841a946352"
      },
      "source": [
        "df=pd.DataFrame({'Actual':Y_test,'Predicted':predicted})\n",
        "df\n"
      ],
      "execution_count": 101,
      "outputs": [
        {
          "output_type": "execute_result",
          "data": {
            "text/html": [
              "<div>\n",
              "<style scoped>\n",
              "    .dataframe tbody tr th:only-of-type {\n",
              "        vertical-align: middle;\n",
              "    }\n",
              "\n",
              "    .dataframe tbody tr th {\n",
              "        vertical-align: top;\n",
              "    }\n",
              "\n",
              "    .dataframe thead th {\n",
              "        text-align: right;\n",
              "    }\n",
              "</style>\n",
              "<table border=\"1\" class=\"dataframe\">\n",
              "  <thead>\n",
              "    <tr style=\"text-align: right;\">\n",
              "      <th></th>\n",
              "      <th>Actual</th>\n",
              "      <th>Predicted</th>\n",
              "    </tr>\n",
              "  </thead>\n",
              "  <tbody>\n",
              "    <tr>\n",
              "      <th>0</th>\n",
              "      <td>308.309998</td>\n",
              "      <td>309.031055</td>\n",
              "    </tr>\n",
              "    <tr>\n",
              "      <th>1</th>\n",
              "      <td>715.820007</td>\n",
              "      <td>716.313262</td>\n",
              "    </tr>\n",
              "    <tr>\n",
              "      <th>2</th>\n",
              "      <td>312.649994</td>\n",
              "      <td>316.055601</td>\n",
              "    </tr>\n",
              "    <tr>\n",
              "      <th>3</th>\n",
              "      <td>373.350006</td>\n",
              "      <td>371.827347</td>\n",
              "    </tr>\n",
              "    <tr>\n",
              "      <th>4</th>\n",
              "      <td>2692.870117</td>\n",
              "      <td>2765.049066</td>\n",
              "    </tr>\n",
              "    <tr>\n",
              "      <th>...</th>\n",
              "      <td>...</td>\n",
              "      <td>...</td>\n",
              "    </tr>\n",
              "    <tr>\n",
              "      <th>625</th>\n",
              "      <td>760.770020</td>\n",
              "      <td>755.365014</td>\n",
              "    </tr>\n",
              "    <tr>\n",
              "      <th>626</th>\n",
              "      <td>611.010010</td>\n",
              "      <td>608.986632</td>\n",
              "    </tr>\n",
              "    <tr>\n",
              "      <th>627</th>\n",
              "      <td>808.330017</td>\n",
              "      <td>814.009095</td>\n",
              "    </tr>\n",
              "    <tr>\n",
              "      <th>628</th>\n",
              "      <td>1598.390015</td>\n",
              "      <td>1590.929449</td>\n",
              "    </tr>\n",
              "    <tr>\n",
              "      <th>629</th>\n",
              "      <td>3104.199951</td>\n",
              "      <td>3158.801090</td>\n",
              "    </tr>\n",
              "  </tbody>\n",
              "</table>\n",
              "<p>630 rows × 2 columns</p>\n",
              "</div>"
            ],
            "text/plain": [
              "          Actual    Predicted\n",
              "0     308.309998   309.031055\n",
              "1     715.820007   716.313262\n",
              "2     312.649994   316.055601\n",
              "3     373.350006   371.827347\n",
              "4    2692.870117  2765.049066\n",
              "..           ...          ...\n",
              "625   760.770020   755.365014\n",
              "626   611.010010   608.986632\n",
              "627   808.330017   814.009095\n",
              "628  1598.390015  1590.929449\n",
              "629  3104.199951  3158.801090\n",
              "\n",
              "[630 rows x 2 columns]"
            ]
          },
          "metadata": {
            "tags": []
          },
          "execution_count": 101
        }
      ]
    },
    {
      "cell_type": "code",
      "metadata": {
        "colab": {
          "base_uri": "https://localhost:8080/"
        },
        "id": "4cSz8Dzv_6K6",
        "outputId": "1693dfbd-495e-4ead-b97b-c5b231b5755b"
      },
      "source": [
        "model.score(X_test,Y_test)"
      ],
      "execution_count": 102,
      "outputs": [
        {
          "output_type": "execute_result",
          "data": {
            "text/plain": [
              "0.9994419547365251"
            ]
          },
          "metadata": {
            "tags": []
          },
          "execution_count": 102
        }
      ]
    },
    {
      "cell_type": "code",
      "metadata": {
        "colab": {
          "base_uri": "https://localhost:8080/"
        },
        "id": "6q3bqBH3AAfF",
        "outputId": "be519ee2-1be2-48d7-86f1-70142e2e3558"
      },
      "source": [
        "r2=metrics.r2_score(Y_test,predicted)\n",
        "r2"
      ],
      "execution_count": 103,
      "outputs": [
        {
          "output_type": "execute_result",
          "data": {
            "text/plain": [
              "0.9994419547365251"
            ]
          },
          "metadata": {
            "tags": []
          },
          "execution_count": 103
        }
      ]
    },
    {
      "cell_type": "code",
      "metadata": {
        "id": "I5Ll2-8QAGiu",
        "colab": {
          "base_uri": "https://localhost:8080/"
        },
        "outputId": "998e0b65-620b-4e0f-e1dc-5d9234b0bedb"
      },
      "source": [
        "rmse=np.sqrt(np.mean(predicted-Y_test)**2)\n",
        "rmse"
      ],
      "execution_count": 104,
      "outputs": [
        {
          "output_type": "execute_result",
          "data": {
            "text/plain": [
              "0.4570996053450046"
            ]
          },
          "metadata": {
            "tags": []
          },
          "execution_count": 104
        }
      ]
    },
    {
      "cell_type": "code",
      "metadata": {
        "id": "LZPdsQof5WqI"
      },
      "source": [
        ""
      ],
      "execution_count": 104,
      "outputs": []
    }
  ]
}