{
  "nbformat": 4,
  "nbformat_minor": 0,
  "metadata": {
    "colab": {
      "name": "Walmart_lasso",
      "provenance": [],
      "authorship_tag": "ABX9TyMDN1ULIp8Pr4Nb60/zC419",
      "include_colab_link": true
    },
    "kernelspec": {
      "name": "python3",
      "display_name": "Python 3"
    },
    "language_info": {
      "name": "python"
    }
  },
  "cells": [
    {
      "cell_type": "markdown",
      "metadata": {
        "id": "view-in-github",
        "colab_type": "text"
      },
      "source": [
        "<a href=\"https://colab.research.google.com/github/Amanj5486/Finance_ML/blob/main/Walmart_lasso.ipynb\" target=\"_parent\"><img src=\"https://colab.research.google.com/assets/colab-badge.svg\" alt=\"Open In Colab\"/></a>"
      ]
    },
    {
      "cell_type": "code",
      "metadata": {
        "id": "-ExD0ix807UE"
      },
      "source": [
        "import numpy as np\n",
        "import pandas as pd\n",
        "import matplotlib.pyplot as plt\n",
        "from sklearn.model_selection import  train_test_split\n",
        "from sklearn.linear_model import  Lasso\n",
        "import sklearn\n",
        "from sklearn.metrics import confusion_matrix, accuracy_score"
      ],
      "execution_count": 30,
      "outputs": []
    },
    {
      "cell_type": "code",
      "metadata": {
        "id": "2F2ka4jJ4RJ0"
      },
      "source": [
        "dataset=pd.read_csv('WMT.csv')\n",
        "dataset['Date']=pd.to_datetime(dataset.Date)"
      ],
      "execution_count": 31,
      "outputs": []
    },
    {
      "cell_type": "code",
      "metadata": {
        "colab": {
          "base_uri": "https://localhost:8080/",
          "height": 203
        },
        "id": "0BKDw_4_4jHN",
        "outputId": "82823d67-85b3-490c-b61a-68e71a822a1f"
      },
      "source": [
        "dataset.drop('Close',axis=1,inplace=True)\n",
        "dataset.head()"
      ],
      "execution_count": 32,
      "outputs": [
        {
          "output_type": "execute_result",
          "data": {
            "text/html": [
              "<div>\n",
              "<style scoped>\n",
              "    .dataframe tbody tr th:only-of-type {\n",
              "        vertical-align: middle;\n",
              "    }\n",
              "\n",
              "    .dataframe tbody tr th {\n",
              "        vertical-align: top;\n",
              "    }\n",
              "\n",
              "    .dataframe thead th {\n",
              "        text-align: right;\n",
              "    }\n",
              "</style>\n",
              "<table border=\"1\" class=\"dataframe\">\n",
              "  <thead>\n",
              "    <tr style=\"text-align: right;\">\n",
              "      <th></th>\n",
              "      <th>Date</th>\n",
              "      <th>Open</th>\n",
              "      <th>High</th>\n",
              "      <th>Low</th>\n",
              "      <th>Adj Close</th>\n",
              "      <th>Volume</th>\n",
              "    </tr>\n",
              "  </thead>\n",
              "  <tbody>\n",
              "    <tr>\n",
              "      <th>0</th>\n",
              "      <td>2011-06-13</td>\n",
              "      <td>52.910000</td>\n",
              "      <td>53.250000</td>\n",
              "      <td>52.580002</td>\n",
              "      <td>41.536190</td>\n",
              "      <td>12545100</td>\n",
              "    </tr>\n",
              "    <tr>\n",
              "      <th>1</th>\n",
              "      <td>2011-06-14</td>\n",
              "      <td>52.860001</td>\n",
              "      <td>53.259998</td>\n",
              "      <td>52.770000</td>\n",
              "      <td>41.765118</td>\n",
              "      <td>8797400</td>\n",
              "    </tr>\n",
              "    <tr>\n",
              "      <th>2</th>\n",
              "      <td>2011-06-15</td>\n",
              "      <td>52.639999</td>\n",
              "      <td>52.639999</td>\n",
              "      <td>51.790001</td>\n",
              "      <td>41.299400</td>\n",
              "      <td>15324000</td>\n",
              "    </tr>\n",
              "    <tr>\n",
              "      <th>3</th>\n",
              "      <td>2011-06-16</td>\n",
              "      <td>52.459999</td>\n",
              "      <td>52.970001</td>\n",
              "      <td>52.200001</td>\n",
              "      <td>41.701969</td>\n",
              "      <td>11743700</td>\n",
              "    </tr>\n",
              "    <tr>\n",
              "      <th>4</th>\n",
              "      <td>2011-06-17</td>\n",
              "      <td>53.060001</td>\n",
              "      <td>53.290001</td>\n",
              "      <td>52.820000</td>\n",
              "      <td>41.694065</td>\n",
              "      <td>20564300</td>\n",
              "    </tr>\n",
              "  </tbody>\n",
              "</table>\n",
              "</div>"
            ],
            "text/plain": [
              "        Date       Open       High        Low  Adj Close    Volume\n",
              "0 2011-06-13  52.910000  53.250000  52.580002  41.536190  12545100\n",
              "1 2011-06-14  52.860001  53.259998  52.770000  41.765118   8797400\n",
              "2 2011-06-15  52.639999  52.639999  51.790001  41.299400  15324000\n",
              "3 2011-06-16  52.459999  52.970001  52.200001  41.701969  11743700\n",
              "4 2011-06-17  53.060001  53.290001  52.820000  41.694065  20564300"
            ]
          },
          "metadata": {
            "tags": []
          },
          "execution_count": 32
        }
      ]
    },
    {
      "cell_type": "code",
      "metadata": {
        "id": "8flwiQ-J4lFB"
      },
      "source": [
        "X=dataset[['Open','High','Low','Volume']]\n",
        "Y=dataset['Adj Close']\n",
        "X=X.values\n",
        "Y=Y.values"
      ],
      "execution_count": 33,
      "outputs": []
    },
    {
      "cell_type": "code",
      "metadata": {
        "id": "W_hnox5c4m7d"
      },
      "source": [
        "X_train, X_test, Y_train, Y_test=train_test_split(X,Y,random_state=0)"
      ],
      "execution_count": 34,
      "outputs": []
    },
    {
      "cell_type": "code",
      "metadata": {
        "colab": {
          "base_uri": "https://localhost:8080/"
        },
        "id": "G3N-XLeh4o-p",
        "outputId": "b01ec573-b829-4057-8d23-952997a7cee6"
      },
      "source": [
        "model=Lasso()\n",
        "model.fit(X_train,Y_train)\n",
        "predicted=model.predict(X_test)"
      ],
      "execution_count": 35,
      "outputs": [
        {
          "output_type": "stream",
          "text": [
            "/usr/local/lib/python3.7/dist-packages/sklearn/linear_model/_coordinate_descent.py:476: ConvergenceWarning: Objective did not converge. You might want to increase the number of iterations. Duality gap: 298.601589046777, tolerance: 139.30801856276295\n",
            "  positive)\n"
          ],
          "name": "stderr"
        }
      ]
    },
    {
      "cell_type": "code",
      "metadata": {
        "colab": {
          "base_uri": "https://localhost:8080/"
        },
        "id": "cHqwrz-f5D7t",
        "outputId": "e396a6c3-320e-4286-bad3-4dae659f93a2"
      },
      "source": [
        "model.score(X_test,Y_test)"
      ],
      "execution_count": 36,
      "outputs": [
        {
          "output_type": "execute_result",
          "data": {
            "text/plain": [
              "0.9913145168995905"
            ]
          },
          "metadata": {
            "tags": []
          },
          "execution_count": 36
        }
      ]
    },
    {
      "cell_type": "code",
      "metadata": {
        "colab": {
          "base_uri": "https://localhost:8080/"
        },
        "id": "SuBiJufF5Gdy",
        "outputId": "8b0602d6-001b-4b62-e713-33d3b9254ef0"
      },
      "source": [
        "r2=sklearn.metrics.r2_score(Y_test, predicted)\n",
        "r2"
      ],
      "execution_count": 37,
      "outputs": [
        {
          "output_type": "execute_result",
          "data": {
            "text/plain": [
              "0.9913145168995905"
            ]
          },
          "metadata": {
            "tags": []
          },
          "execution_count": 37
        }
      ]
    },
    {
      "cell_type": "code",
      "metadata": {
        "colab": {
          "base_uri": "https://localhost:8080/"
        },
        "id": "tC5r-XUy5I7J",
        "outputId": "f5aa445d-96b7-4220-a718-baeb3497f17f"
      },
      "source": [
        "rmse=np.sqrt(np.mean(predicted-Y_test)**2)\n",
        "rmse"
      ],
      "execution_count": 38,
      "outputs": [
        {
          "output_type": "execute_result",
          "data": {
            "text/plain": [
              "0.040386435873401016"
            ]
          },
          "metadata": {
            "tags": []
          },
          "execution_count": 38
        }
      ]
    },
    {
      "cell_type": "code",
      "metadata": {
        "id": "PPQBLZ9E5zwJ"
      },
      "source": [
        ""
      ],
      "execution_count": 38,
      "outputs": []
    }
  ]
}