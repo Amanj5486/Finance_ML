{
  "nbformat": 4,
  "nbformat_minor": 0,
  "metadata": {
    "colab": {
      "name": "Amazon_Ridge",
      "provenance": [],
      "authorship_tag": "ABX9TyPl2E01MPlBUKQ9HjI5Ocm7",
      "include_colab_link": true
    },
    "kernelspec": {
      "name": "python3",
      "display_name": "Python 3"
    },
    "language_info": {
      "name": "python"
    }
  },
  "cells": [
    {
      "cell_type": "markdown",
      "metadata": {
        "id": "view-in-github",
        "colab_type": "text"
      },
      "source": [
        "<a href=\"https://colab.research.google.com/github/Amanj5486/Finance_ML/blob/main/Amazon_Ridge.ipynb\" target=\"_parent\"><img src=\"https://colab.research.google.com/assets/colab-badge.svg\" alt=\"Open In Colab\"/></a>"
      ]
    },
    {
      "cell_type": "code",
      "metadata": {
        "id": "RbxLbdhl049R"
      },
      "source": [
        "import numpy as np\n",
        "import pandas as pd\n",
        "import matplotlib.pyplot as plt\n",
        "from sklearn.model_selection import  train_test_split\n",
        "from sklearn.linear_model import Ridge\n",
        "import sklearn\n",
        "from sklearn.metrics import confusion_matrix, accuracy_score"
      ],
      "execution_count": 20,
      "outputs": []
    },
    {
      "cell_type": "code",
      "metadata": {
        "id": "vQsLMhzo173m"
      },
      "source": [
        "dataset=pd.read_csv('amzn_data.csv')\n",
        "dataset['Date']=pd.to_datetime(dataset.Date)"
      ],
      "execution_count": 21,
      "outputs": []
    },
    {
      "cell_type": "code",
      "metadata": {
        "id": "bMtl1fQR2Jql"
      },
      "source": [
        "dataset.drop('Close',axis=1,inplace=True)"
      ],
      "execution_count": 22,
      "outputs": []
    },
    {
      "cell_type": "code",
      "metadata": {
        "id": "xyUT8VTh2LDV"
      },
      "source": [
        "X=dataset[['Open','High','Low','Volume']]\n",
        "Y=dataset['Adj Close']\n",
        "X=X.values\n",
        "Y=Y.values"
      ],
      "execution_count": 23,
      "outputs": []
    },
    {
      "cell_type": "code",
      "metadata": {
        "id": "DVrmg43y2V-l"
      },
      "source": [
        "X_train, X_test, Y_train, Y_test=train_test_split(X,Y,random_state=0)"
      ],
      "execution_count": 24,
      "outputs": []
    },
    {
      "cell_type": "code",
      "metadata": {
        "id": "8UPA9NfV2YHg"
      },
      "source": [
        "model=Ridge()\n",
        "model.fit(X_train,Y_train)\n",
        "predicted=model.predict(X_test)"
      ],
      "execution_count": 25,
      "outputs": []
    },
    {
      "cell_type": "code",
      "metadata": {
        "colab": {
          "base_uri": "https://localhost:8080/"
        },
        "id": "4jZKsFUD2fHI",
        "outputId": "d9dd010f-fcfd-4c9e-98b0-ce97acf78973"
      },
      "source": [
        "model.score(X_test,Y_test)"
      ],
      "execution_count": 26,
      "outputs": [
        {
          "output_type": "execute_result",
          "data": {
            "text/plain": [
              "0.9998694902567978"
            ]
          },
          "metadata": {
            "tags": []
          },
          "execution_count": 26
        }
      ]
    },
    {
      "cell_type": "code",
      "metadata": {
        "colab": {
          "base_uri": "https://localhost:8080/"
        },
        "id": "Oj7W84_r3jxQ",
        "outputId": "ac84ed48-ef40-476a-e8ba-5b4b11ca94c8"
      },
      "source": [
        "r2=sklearn.metrics.r2_score(Y_test, predicted)\n",
        "r2"
      ],
      "execution_count": 27,
      "outputs": [
        {
          "output_type": "execute_result",
          "data": {
            "text/plain": [
              "0.9998694902567978"
            ]
          },
          "metadata": {
            "tags": []
          },
          "execution_count": 27
        }
      ]
    },
    {
      "cell_type": "code",
      "metadata": {
        "colab": {
          "base_uri": "https://localhost:8080/"
        },
        "id": "weWcAdoV3zIp",
        "outputId": "9ef42144-6529-4c84-9afa-09f1f3d43035"
      },
      "source": [
        "rmse=np.sqrt(np.mean(predicted-Y_test)**2)\n",
        "rmse"
      ],
      "execution_count": 28,
      "outputs": [
        {
          "output_type": "execute_result",
          "data": {
            "text/plain": [
              "0.12604605862484503"
            ]
          },
          "metadata": {
            "tags": []
          },
          "execution_count": 28
        }
      ]
    },
    {
      "cell_type": "code",
      "metadata": {
        "id": "MjjKjmIV5yRc"
      },
      "source": [
        ""
      ],
      "execution_count": null,
      "outputs": []
    }
  ]
}