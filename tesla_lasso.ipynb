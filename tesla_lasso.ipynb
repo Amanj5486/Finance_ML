{
  "nbformat": 4,
  "nbformat_minor": 0,
  "metadata": {
    "colab": {
      "name": "tesla_lasso",
      "provenance": [],
      "authorship_tag": "ABX9TyNic9Rw2JITqpPNokHbMjT+",
      "include_colab_link": true
    },
    "kernelspec": {
      "name": "python3",
      "display_name": "Python 3"
    },
    "language_info": {
      "name": "python"
    }
  },
  "cells": [
    {
      "cell_type": "markdown",
      "metadata": {
        "id": "view-in-github",
        "colab_type": "text"
      },
      "source": [
        "<a href=\"https://colab.research.google.com/github/Amanj5486/Finance_ML/blob/main/tesla_lasso.ipynb\" target=\"_parent\"><img src=\"https://colab.research.google.com/assets/colab-badge.svg\" alt=\"Open In Colab\"/></a>"
      ]
    },
    {
      "cell_type": "code",
      "metadata": {
        "id": "-ExD0ix807UE"
      },
      "source": [
        "import numpy as np\n",
        "import pandas as pd\n",
        "import matplotlib.pyplot as plt\n",
        "from sklearn.model_selection import  train_test_split\n",
        "from sklearn.linear_model import  Lasso\n",
        "import sklearn\n",
        "from sklearn.metrics import confusion_matrix, accuracy_score"
      ],
      "execution_count": 21,
      "outputs": []
    },
    {
      "cell_type": "code",
      "metadata": {
        "id": "2F2ka4jJ4RJ0"
      },
      "source": [
        "dataset=pd.read_csv('TSLA.csv')\n",
        "dataset['Date']=pd.to_datetime(dataset.Date)"
      ],
      "execution_count": 22,
      "outputs": []
    },
    {
      "cell_type": "code",
      "metadata": {
        "colab": {
          "base_uri": "https://localhost:8080/",
          "height": 203
        },
        "id": "0BKDw_4_4jHN",
        "outputId": "1acd624b-22e6-4a1e-ab6d-51bfe9b92180"
      },
      "source": [
        "dataset.drop('Close',axis=1,inplace=True)\n",
        "dataset.head()"
      ],
      "execution_count": 23,
      "outputs": [
        {
          "output_type": "execute_result",
          "data": {
            "text/html": [
              "<div>\n",
              "<style scoped>\n",
              "    .dataframe tbody tr th:only-of-type {\n",
              "        vertical-align: middle;\n",
              "    }\n",
              "\n",
              "    .dataframe tbody tr th {\n",
              "        vertical-align: top;\n",
              "    }\n",
              "\n",
              "    .dataframe thead th {\n",
              "        text-align: right;\n",
              "    }\n",
              "</style>\n",
              "<table border=\"1\" class=\"dataframe\">\n",
              "  <thead>\n",
              "    <tr style=\"text-align: right;\">\n",
              "      <th></th>\n",
              "      <th>Date</th>\n",
              "      <th>Open</th>\n",
              "      <th>High</th>\n",
              "      <th>Low</th>\n",
              "      <th>Adj Close</th>\n",
              "      <th>Volume</th>\n",
              "    </tr>\n",
              "  </thead>\n",
              "  <tbody>\n",
              "    <tr>\n",
              "      <th>0</th>\n",
              "      <td>2011-06-14</td>\n",
              "      <td>5.708</td>\n",
              "      <td>5.940</td>\n",
              "      <td>5.704</td>\n",
              "      <td>5.720</td>\n",
              "      <td>7867000</td>\n",
              "    </tr>\n",
              "    <tr>\n",
              "      <th>1</th>\n",
              "      <td>2011-06-15</td>\n",
              "      <td>5.688</td>\n",
              "      <td>5.690</td>\n",
              "      <td>5.414</td>\n",
              "      <td>5.464</td>\n",
              "      <td>6725000</td>\n",
              "    </tr>\n",
              "    <tr>\n",
              "      <th>2</th>\n",
              "      <td>2011-06-16</td>\n",
              "      <td>5.534</td>\n",
              "      <td>5.600</td>\n",
              "      <td>5.148</td>\n",
              "      <td>5.300</td>\n",
              "      <td>9211000</td>\n",
              "    </tr>\n",
              "    <tr>\n",
              "      <th>3</th>\n",
              "      <td>2011-06-17</td>\n",
              "      <td>5.374</td>\n",
              "      <td>5.540</td>\n",
              "      <td>5.228</td>\n",
              "      <td>5.300</td>\n",
              "      <td>8570000</td>\n",
              "    </tr>\n",
              "    <tr>\n",
              "      <th>4</th>\n",
              "      <td>2011-06-20</td>\n",
              "      <td>5.258</td>\n",
              "      <td>5.292</td>\n",
              "      <td>5.100</td>\n",
              "      <td>5.202</td>\n",
              "      <td>7689000</td>\n",
              "    </tr>\n",
              "  </tbody>\n",
              "</table>\n",
              "</div>"
            ],
            "text/plain": [
              "        Date   Open   High    Low  Adj Close   Volume\n",
              "0 2011-06-14  5.708  5.940  5.704      5.720  7867000\n",
              "1 2011-06-15  5.688  5.690  5.414      5.464  6725000\n",
              "2 2011-06-16  5.534  5.600  5.148      5.300  9211000\n",
              "3 2011-06-17  5.374  5.540  5.228      5.300  8570000\n",
              "4 2011-06-20  5.258  5.292  5.100      5.202  7689000"
            ]
          },
          "metadata": {
            "tags": []
          },
          "execution_count": 23
        }
      ]
    },
    {
      "cell_type": "code",
      "metadata": {
        "id": "8flwiQ-J4lFB"
      },
      "source": [
        "X=dataset[['Open','High','Low','Volume']]\n",
        "Y=dataset['Adj Close']\n",
        "X=X.values\n",
        "Y=Y.values"
      ],
      "execution_count": 24,
      "outputs": []
    },
    {
      "cell_type": "code",
      "metadata": {
        "id": "W_hnox5c4m7d"
      },
      "source": [
        "X_train, X_test, Y_train, Y_test=train_test_split(X,Y,random_state=0)"
      ],
      "execution_count": 25,
      "outputs": []
    },
    {
      "cell_type": "code",
      "metadata": {
        "colab": {
          "base_uri": "https://localhost:8080/"
        },
        "id": "G3N-XLeh4o-p",
        "outputId": "cc934459-ed52-4027-8f40-3829567fbc85"
      },
      "source": [
        "model=Lasso()\n",
        "model.fit(X_train,Y_train)\n",
        "predicted=model.predict(X_test)"
      ],
      "execution_count": 26,
      "outputs": [
        {
          "output_type": "stream",
          "text": [
            "/usr/local/lib/python3.7/dist-packages/sklearn/linear_model/_coordinate_descent.py:476: ConvergenceWarning: Objective did not converge. You might want to increase the number of iterations. Duality gap: 17672.802158773567, tolerance: 4635.254400140373\n",
            "  positive)\n"
          ],
          "name": "stderr"
        }
      ]
    },
    {
      "cell_type": "code",
      "metadata": {
        "colab": {
          "base_uri": "https://localhost:8080/"
        },
        "id": "cHqwrz-f5D7t",
        "outputId": "8104131c-d82b-4a98-9601-14835f4a9e00"
      },
      "source": [
        "model.score(X_test,Y_test)"
      ],
      "execution_count": 27,
      "outputs": [
        {
          "output_type": "execute_result",
          "data": {
            "text/plain": [
              "0.9993569422490086"
            ]
          },
          "metadata": {
            "tags": []
          },
          "execution_count": 27
        }
      ]
    },
    {
      "cell_type": "code",
      "metadata": {
        "colab": {
          "base_uri": "https://localhost:8080/"
        },
        "id": "SuBiJufF5Gdy",
        "outputId": "091ae7e0-4ec5-4d99-91f0-e138e01a35d7"
      },
      "source": [
        "r2=sklearn.metrics.r2_score(Y_test, predicted)\n",
        "r2"
      ],
      "execution_count": 28,
      "outputs": [
        {
          "output_type": "execute_result",
          "data": {
            "text/plain": [
              "0.9993569422490085"
            ]
          },
          "metadata": {
            "tags": []
          },
          "execution_count": 28
        }
      ]
    },
    {
      "cell_type": "code",
      "metadata": {
        "colab": {
          "base_uri": "https://localhost:8080/"
        },
        "id": "tC5r-XUy5I7J",
        "outputId": "27268ad6-3978-4019-8a6e-8b007961107b"
      },
      "source": [
        "rmse=np.sqrt(np.mean(predicted-Y_test)**2)\n",
        "rmse"
      ],
      "execution_count": 29,
      "outputs": [
        {
          "output_type": "execute_result",
          "data": {
            "text/plain": [
              "0.13882587946199443"
            ]
          },
          "metadata": {
            "tags": []
          },
          "execution_count": 29
        }
      ]
    },
    {
      "cell_type": "code",
      "metadata": {
        "id": "PPQBLZ9E5zwJ"
      },
      "source": [
        ""
      ],
      "execution_count": 29,
      "outputs": []
    }
  ]
}