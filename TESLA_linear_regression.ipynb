{
  "nbformat": 4,
  "nbformat_minor": 0,
  "metadata": {
    "colab": {
      "name": "TESLA_linear_regression",
      "provenance": [],
      "collapsed_sections": [],
      "authorship_tag": "ABX9TyNbOqxJ0zo74dQW/8FjeepN",
      "include_colab_link": true
    },
    "kernelspec": {
      "name": "python3",
      "display_name": "Python 3"
    },
    "language_info": {
      "name": "python"
    }
  },
  "cells": [
    {
      "cell_type": "markdown",
      "metadata": {
        "id": "view-in-github",
        "colab_type": "text"
      },
      "source": [
        "<a href=\"https://colab.research.google.com/github/Amanj5486/Finance_ML/blob/main/TESLA_linear_regression.ipynb\" target=\"_parent\"><img src=\"https://colab.research.google.com/assets/colab-badge.svg\" alt=\"Open In Colab\"/></a>"
      ]
    },
    {
      "cell_type": "code",
      "metadata": {
        "id": "-tIRQNdfh2Mn"
      },
      "source": [
        "import numpy as np\n",
        "import pandas as pd\n",
        "import matplotlib.pyplot as plt\n",
        "from sklearn import  metrics\n",
        "from sklearn.model_selection import  train_test_split\n",
        "from sklearn.linear_model import LinearRegression\n",
        "from sklearn.metrics import confusion_matrix, accuracy_score\n",
        "import math\n",
        "\n",
        "#from sklearn.linear_model import SGDRegressor\n",
        "#from sklearn.linear_model import ElasticNet\n",
        "#from sklearn.pipeline import make_pipeline\n",
        "#from sklearn.preprocessing import StandardScaler"
      ],
      "execution_count": 40,
      "outputs": []
    },
    {
      "cell_type": "code",
      "metadata": {
        "id": "yxHqdrrOrnte"
      },
      "source": [
        "dataset=pd.read_csv('TSLA.csv')\n",
        "dataset['Date']=pd.to_datetime(dataset.Date)"
      ],
      "execution_count": 41,
      "outputs": []
    },
    {
      "cell_type": "code",
      "metadata": {
        "id": "DjE1MaLxirv9"
      },
      "source": [
        "dataset.drop('Close',axis=1,inplace=True)"
      ],
      "execution_count": 42,
      "outputs": []
    },
    {
      "cell_type": "code",
      "metadata": {
        "colab": {
          "base_uri": "https://localhost:8080/",
          "height": 282
        },
        "id": "1WefX-Hcv7GE",
        "outputId": "2447ed65-1406-4599-a287-52d48cbebdbf"
      },
      "source": [
        "dataset['Adj Close'].plot()"
      ],
      "execution_count": 43,
      "outputs": [
        {
          "output_type": "execute_result",
          "data": {
            "text/plain": [
              "<matplotlib.axes._subplots.AxesSubplot at 0x7f61210d9ad0>"
            ]
          },
          "metadata": {
            "tags": []
          },
          "execution_count": 43
        },
        {
          "output_type": "display_data",
          "data": {
            "image/png": "[encoded data removed]",
            "text/plain": [
              "<Figure size 432x288 with 1 Axes>"
            ]
          },
          "metadata": {
            "tags": [],
            "needs_background": "light"
          }
        }
      ]
    },
    {
      "cell_type": "code",
      "metadata": {
        "id": "vJhHaKMTwIB0"
      },
      "source": [
        "X=dataset[['Open','High','Low','Volume']]\n",
        "Y=dataset['Adj Close']\n",
        "X=X.values\n",
        "Y=Y.values"
      ],
      "execution_count": 44,
      "outputs": []
    },
    {
      "cell_type": "code",
      "metadata": {
        "id": "7khKmOm2weqo"
      },
      "source": [
        "X_train, X_test, Y_train, Y_test=train_test_split(X,Y,random_state=0)"
      ],
      "execution_count": 45,
      "outputs": []
    },
    {
      "cell_type": "code",
      "metadata": {
        "colab": {
          "base_uri": "https://localhost:8080/"
        },
        "id": "x4eNyt6YxAcE",
        "outputId": "49ebc7b9-f7b4-4445-cfb4-0169146b2c64"
      },
      "source": [
        "print(X_train.shape,Y_train.shape)\n",
        "\n"
      ],
      "execution_count": 46,
      "outputs": [
        {
          "output_type": "stream",
          "text": [
            "(1887, 4) (1887,)\n"
          ],
          "name": "stdout"
        }
      ]
    },
    {
      "cell_type": "code",
      "metadata": {
        "colab": {
          "base_uri": "https://localhost:8080/"
        },
        "id": "wKfIXTTuxsnU",
        "outputId": "7ad1e30b-39ea-414b-dcc3-f7e2d73fc716"
      },
      "source": [
        "model=LinearRegression()\n",
        "model.fit(X_train,Y_train)"
      ],
      "execution_count": 47,
      "outputs": [
        {
          "output_type": "execute_result",
          "data": {
            "text/plain": [
              "LinearRegression(copy_X=True, fit_intercept=True, n_jobs=None, normalize=False)"
            ]
          },
          "metadata": {
            "tags": []
          },
          "execution_count": 47
        }
      ]
    },
    {
      "cell_type": "code",
      "metadata": {
        "colab": {
          "base_uri": "https://localhost:8080/"
        },
        "id": "xGvs4CjkxzDU",
        "outputId": "5d150e89-0d1b-4957-9cf7-b206727ece9f"
      },
      "source": [
        "print(model.coef_)\n"
      ],
      "execution_count": 48,
      "outputs": [
        {
          "output_type": "stream",
          "text": [
            "[-6.03420377e-01  9.69812362e-01  6.27794804e-01 -2.25680208e-09]\n"
          ],
          "name": "stdout"
        }
      ]
    },
    {
      "cell_type": "code",
      "metadata": {
        "id": "bLXf8uLi0uo5"
      },
      "source": [
        "predicted=model.predict(X_test)"
      ],
      "execution_count": 49,
      "outputs": []
    },
    {
      "cell_type": "code",
      "metadata": {
        "colab": {
          "base_uri": "https://localhost:8080/",
          "height": 417
        },
        "id": "cK9J5fb31GZl",
        "outputId": "d53b975e-f3ef-4a2f-d2b8-3c5e187e5bf2"
      },
      "source": [
        "df=pd.DataFrame({'Actual':Y_test,'Predicted':predicted})\n",
        "df"
      ],
      "execution_count": 50,
      "outputs": [
        {
          "output_type": "execute_result",
          "data": {
            "text/html": [
              "<div>\n",
              "<style scoped>\n",
              "    .dataframe tbody tr th:only-of-type {\n",
              "        vertical-align: middle;\n",
              "    }\n",
              "\n",
              "    .dataframe tbody tr th {\n",
              "        vertical-align: top;\n",
              "    }\n",
              "\n",
              "    .dataframe thead th {\n",
              "        text-align: right;\n",
              "    }\n",
              "</style>\n",
              "<table border=\"1\" class=\"dataframe\">\n",
              "  <thead>\n",
              "    <tr style=\"text-align: right;\">\n",
              "      <th></th>\n",
              "      <th>Actual</th>\n",
              "      <th>Predicted</th>\n",
              "    </tr>\n",
              "  </thead>\n",
              "  <tbody>\n",
              "    <tr>\n",
              "      <th>0</th>\n",
              "      <td>45.939999</td>\n",
              "      <td>45.503970</td>\n",
              "    </tr>\n",
              "    <tr>\n",
              "      <th>1</th>\n",
              "      <td>39.332001</td>\n",
              "      <td>40.251793</td>\n",
              "    </tr>\n",
              "    <tr>\n",
              "      <th>2</th>\n",
              "      <td>37.728001</td>\n",
              "      <td>37.557266</td>\n",
              "    </tr>\n",
              "    <tr>\n",
              "      <th>3</th>\n",
              "      <td>38.945999</td>\n",
              "      <td>39.320491</td>\n",
              "    </tr>\n",
              "    <tr>\n",
              "      <th>4</th>\n",
              "      <td>201.869995</td>\n",
              "      <td>198.019166</td>\n",
              "    </tr>\n",
              "    <tr>\n",
              "      <th>...</th>\n",
              "      <td>...</td>\n",
              "      <td>...</td>\n",
              "    </tr>\n",
              "    <tr>\n",
              "      <th>624</th>\n",
              "      <td>46.057999</td>\n",
              "      <td>45.557781</td>\n",
              "    </tr>\n",
              "    <tr>\n",
              "      <th>625</th>\n",
              "      <td>46.006001</td>\n",
              "      <td>45.825716</td>\n",
              "    </tr>\n",
              "    <tr>\n",
              "      <th>626</th>\n",
              "      <td>42.591999</td>\n",
              "      <td>42.090495</td>\n",
              "    </tr>\n",
              "    <tr>\n",
              "      <th>627</th>\n",
              "      <td>49.784000</td>\n",
              "      <td>49.814937</td>\n",
              "    </tr>\n",
              "    <tr>\n",
              "      <th>628</th>\n",
              "      <td>68.367996</td>\n",
              "      <td>68.683219</td>\n",
              "    </tr>\n",
              "  </tbody>\n",
              "</table>\n",
              "<p>629 rows × 2 columns</p>\n",
              "</div>"
            ],
            "text/plain": [
              "         Actual   Predicted\n",
              "0     45.939999   45.503970\n",
              "1     39.332001   40.251793\n",
              "2     37.728001   37.557266\n",
              "3     38.945999   39.320491\n",
              "4    201.869995  198.019166\n",
              "..          ...         ...\n",
              "624   46.057999   45.557781\n",
              "625   46.006001   45.825716\n",
              "626   42.591999   42.090495\n",
              "627   49.784000   49.814937\n",
              "628   68.367996   68.683219\n",
              "\n",
              "[629 rows x 2 columns]"
            ]
          },
          "metadata": {
            "tags": []
          },
          "execution_count": 50
        }
      ]
    },
    {
      "cell_type": "code",
      "metadata": {
        "colab": {
          "base_uri": "https://localhost:8080/"
        },
        "id": "ZLMIUOS01QTx",
        "outputId": "623d6916-63eb-4649-a95f-8e8c0c81c51d"
      },
      "source": [
        "model.score(X_test,Y_test)"
      ],
      "execution_count": 51,
      "outputs": [
        {
          "output_type": "execute_result",
          "data": {
            "text/plain": [
              "0.9998238965992411"
            ]
          },
          "metadata": {
            "tags": []
          },
          "execution_count": 51
        }
      ]
    },
    {
      "cell_type": "code",
      "metadata": {
        "id": "x_zYTcwV1iKR",
        "colab": {
          "base_uri": "https://localhost:8080/"
        },
        "outputId": "1393894b-8fa6-43db-ab44-ba5591e133b7"
      },
      "source": [
        "mae=metrics.mean_absolute_error(Y_test,predicted)\n",
        "mae"
      ],
      "execution_count": 52,
      "outputs": [
        {
          "output_type": "execute_result",
          "data": {
            "text/plain": [
              "0.9564019803606001"
            ]
          },
          "metadata": {
            "tags": []
          },
          "execution_count": 52
        }
      ]
    },
    {
      "cell_type": "code",
      "metadata": {
        "colab": {
          "base_uri": "https://localhost:8080/"
        },
        "id": "1cO9OA0k2THI",
        "outputId": "d07ab9cd-f6b9-458a-c251-50baeeaf2a85"
      },
      "source": [
        "r2=metrics.r2_score(Y_test,predicted)\n",
        "r2"
      ],
      "execution_count": 53,
      "outputs": [
        {
          "output_type": "execute_result",
          "data": {
            "text/plain": [
              "0.9998238965992411"
            ]
          },
          "metadata": {
            "tags": []
          },
          "execution_count": 53
        }
      ]
    },
    {
      "cell_type": "code",
      "metadata": {
        "id": "J13kmbba2UCx"
      },
      "source": [
        "\n",
        "graph=df.head(20)"
      ],
      "execution_count": 54,
      "outputs": []
    },
    {
      "cell_type": "code",
      "metadata": {
        "colab": {
          "base_uri": "https://localhost:8080/",
          "height": 285
        },
        "id": "mG78ZZzT2qZx",
        "outputId": "3a1c53de-1615-4f6e-9c35-c559787878a0"
      },
      "source": [
        "graph.plot(kind='bar')"
      ],
      "execution_count": 55,
      "outputs": [
        {
          "output_type": "execute_result",
          "data": {
            "text/plain": [
              "<matplotlib.axes._subplots.AxesSubplot at 0x7f6120ef0510>"
            ]
          },
          "metadata": {
            "tags": []
          },
          "execution_count": 55
        },
        {
          "output_type": "display_data",
          "data": {
            "image/png": "[encoded data removed]",
            "text/plain": [
              "<Figure size 432x288 with 1 Axes>"
            ]
          },
          "metadata": {
            "tags": [],
            "needs_background": "light"
          }
        }
      ]
    },
    {
      "cell_type": "code",
      "metadata": {
        "id": "kdKNJ8Ln2t71",
        "colab": {
          "base_uri": "https://localhost:8080/"
        },
        "outputId": "9d9d7e2b-f881-41d8-abe9-ba45fe2362c1"
      },
      "source": [
        "rmse=np.sqrt(np.mean(predicted-Y_test)**2)\n",
        "rmse"
      ],
      "execution_count": 56,
      "outputs": [
        {
          "output_type": "execute_result",
          "data": {
            "text/plain": [
              "0.0480577416553891"
            ]
          },
          "metadata": {
            "tags": []
          },
          "execution_count": 56
        }
      ]
    },
    {
      "cell_type": "code",
      "metadata": {
        "colab": {
          "base_uri": "https://localhost:8080/"
        },
        "id": "sHOO4_oomh9D",
        "outputId": "2031d766-15d7-4933-83d6-1ce5ceaea612"
      },
      "source": [
        "k2=metrics.r2_score(Y_test,predicted)\n",
        "k2"
      ],
      "execution_count": 57,
      "outputs": [
        {
          "output_type": "execute_result",
          "data": {
            "text/plain": [
              "0.9998238965992411"
            ]
          },
          "metadata": {
            "tags": []
          },
          "execution_count": 57
        }
      ]
    }
  ]
}